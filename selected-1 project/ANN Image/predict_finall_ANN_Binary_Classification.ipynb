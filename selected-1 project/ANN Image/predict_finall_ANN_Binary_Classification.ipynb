{
 "cells": [
  {
   "cell_type": "code",
   "execution_count": 10,
   "id": "9dc16b03",
   "metadata": {},
   "outputs": [],
   "source": [
    "import numpy as np\n",
    "import cv2\n",
    "from skimage import color\n",
    "from skimage import io\n",
    "from keras import models"
   ]
  },
  {
   "cell_type": "code",
   "execution_count": 11,
   "id": "a30aa5fc",
   "metadata": {},
   "outputs": [],
   "source": [
    "c=models.load_model('E:/3st/Semster_1/Projects/Selected/Final_Ann/Binary_calss_Final.h5')"
   ]
  },
  {
   "cell_type": "code",
   "execution_count": 12,
   "id": "f9c0e1d3",
   "metadata": {},
   "outputs": [],
   "source": [
    "code = {'Trouser':0 ,'Tshirt':1}\n",
    "#######################\n",
    "def getcode(n) : \n",
    "    for x , y in code.items() : \n",
    "        if n == y :\n",
    "            return x"
   ]
  },
  {
   "cell_type": "code",
   "execution_count": 13,
   "id": "278e8079",
   "metadata": {},
   "outputs": [],
   "source": [
    "def get_result(model,path):\n",
    "    c = models.load_model(model)\n",
    "    x = \"xxx\"\n",
    "    X_image = []\n",
    "    image = cv2.imread(path)\n",
    "    imgGray = color.rgb2gray(image)\n",
    "    image_array = cv2.resize(imgGray, (28, 28))\n",
    "    X_image.append(list(image_array))\n",
    "    X_test = []\n",
    "    X_test.append(list(image_array))\n",
    "    X_test = np.array(X_test)\n",
    "    y_pred = c.predict(X_test)\n",
    "    return str(getcode(np.argmax(y_pred)))"
   ]
  },
  {
   "cell_type": "code",
   "execution_count": 15,
   "id": "0d4765f7",
   "metadata": {
    "collapsed": true
   },
   "outputs": [
    {
     "data": {
      "text/plain": [
       "'Tshirt'"
      ]
     },
     "execution_count": 15,
     "metadata": {},
     "output_type": "execute_result"
    }
   ],
   "source": [
    "model=\"E:/3st/Semster_1/Projects/Selected/Final_Ann/Binary_calss_Final.h5\"\n",
    "img=\"E:/3st/Semster_1/Projects/Selected/DataSet/Fashion_mn/Tr/tr_test/Tshirt/143.jpg\"\n",
    "get_result(model,img)"
   ]
  },
  {
   "cell_type": "code",
   "execution_count": null,
   "id": "dba2597e",
   "metadata": {},
   "outputs": [],
   "source": []
  }
 ],
 "metadata": {
  "kernelspec": {
   "display_name": "Python 3 (ipykernel)",
   "language": "python",
   "name": "python3"
  },
  "language_info": {
   "codemirror_mode": {
    "name": "ipython",
    "version": 3
   },
   "file_extension": ".py",
   "mimetype": "text/x-python",
   "name": "python",
   "nbconvert_exporter": "python",
   "pygments_lexer": "ipython3",
   "version": "3.9.7"
  }
 },
 "nbformat": 4,
 "nbformat_minor": 5
}
