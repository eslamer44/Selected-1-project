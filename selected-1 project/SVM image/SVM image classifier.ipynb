{
 "cells": [
  {
   "cell_type": "code",
   "execution_count": 1,
   "id": "78a433bb",
   "metadata": {},
   "outputs": [],
   "source": [
    "import pandas as pd\n",
    "import numpy as np\n",
    "import matplotlib.pyplot as plt\n",
    "import cv2\n",
    "import os\n",
    "import keras\n",
    "import glob as gb\n",
    "from scipy import misc\n",
    "from sklearn.model_selection import train_test_split\n",
    "import tensorflow as tf\n",
    "from keras.datasets import fashion_mnist\n",
    "import pickle\n",
    "from sklearn.model_selection import train_test_split\n",
    "from sklearn.svm import SVC\n",
    "from keras import models\n",
    "from sklearn.metrics import confusion_matrix, accuracy_score\n",
    "from sklearn.metrics import roc_curve, auc\n",
    "from sklearn.model_selection import learning_curve\n",
    "from skimage import color\n",
    "from skimage import io\n",
    "import sklearn.metrics as metrics"
   ]
  },
  {
   "cell_type": "code",
   "execution_count": 2,
   "id": "bdea7516",
   "metadata": {},
   "outputs": [],
   "source": [
    "# to change every_folder with label  \n",
    "\n",
    "code = {'Tshirt':0 ,'Trouser':1}\n",
    "#######################\n",
    "def getcode(n) : \n",
    "    for x , y in code.items() : \n",
    "        if n == y : \n",
    "            return x"
   ]
  },
  {
   "cell_type": "code",
   "execution_count": 3,
   "id": "4471c549",
   "metadata": {},
   "outputs": [],
   "source": [
    "trainpath = 'D:/Faaclty/level 3/selcted-1/SVM image2/'\n",
    "testpath = 'D:/Faaclty/level 3/selcted-1/SVM image2/'"
   ]
  },
  {
   "cell_type": "code",
   "execution_count": 4,
   "id": "4fee9df8",
   "metadata": {},
   "outputs": [
    {
     "name": "stdout",
     "output_type": "stream",
     "text": [
      "For training data , found 6000 in folder Trouser\n",
      "For training data , found 6000 in folder Tshirt\n"
     ]
    }
   ],
   "source": [
    "# Reading files [ training_dataset ] \n",
    "\n",
    "for folder in  os.listdir(trainpath + 'train') : \n",
    "    files = gb.glob(pathname= str( trainpath +'train//' + folder + '/*.jpg'))\n",
    "    print(f'For training data , found {len(files)} in folder {folder}')"
   ]
  },
  {
   "cell_type": "code",
   "execution_count": 5,
   "id": "3c0a8759",
   "metadata": {},
   "outputs": [
    {
     "name": "stdout",
     "output_type": "stream",
     "text": [
      "For testing data , found 1000 in folder Trouser\n",
      "For testing data , found 1000 in folder Tshirt\n"
     ]
    }
   ],
   "source": [
    "for folder in  os.listdir(testpath +'test') : \n",
    "    files = gb.glob(pathname= str( testpath +'test//' + folder + '/*.jpg'))\n",
    "    print(f'For testing data , found {len(files)} in folder {folder}')"
   ]
  },
  {
   "cell_type": "code",
   "execution_count": 6,
   "id": "da724421",
   "metadata": {},
   "outputs": [
    {
     "data": {
      "text/plain": [
       "(28, 28)    2000\n",
       "dtype: int64"
      ]
     },
     "execution_count": 6,
     "metadata": {},
     "output_type": "execute_result"
    }
   ],
   "source": [
    "# to get more info about train_data  ex:[size of each pic , color , num of each size] \n",
    "size = []\n",
    "for folder in  os.listdir(trainpath +'test') : \n",
    "    files = gb.glob(pathname= str( trainpath +'test//' + folder + '/*.jpg'))\n",
    "    for file in files: \n",
    "        image = plt.imread(file)\n",
    "        size.append(image.shape)\n",
    "pd.Series(size).value_counts()"
   ]
  },
  {
   "cell_type": "code",
   "execution_count": 7,
   "id": "c9cee751",
   "metadata": {},
   "outputs": [
    {
     "data": {
      "text/plain": [
       "(28, 28)    12000\n",
       "dtype: int64"
      ]
     },
     "execution_count": 7,
     "metadata": {},
     "output_type": "execute_result"
    }
   ],
   "source": [
    "# to get more info about train_data  ex:[size of each pic , color , num of each size] \n",
    "size = []\n",
    "for folder in  os.listdir(trainpath +'train') : \n",
    "    files = gb.glob(pathname= str( trainpath +'train//' + folder + '/*.jpg'))\n",
    "    for file in files: \n",
    "        image = plt.imread(file)\n",
    "        size.append(image.shape)\n",
    "pd.Series(size).value_counts()"
   ]
  },
  {
   "cell_type": "code",
   "execution_count": 8,
   "id": "39166913",
   "metadata": {},
   "outputs": [],
   "source": [
    "# to resize images_train to one equalied size      \n",
    "X_train = []\n",
    "y_train = []\n",
    "for folder in  os.listdir(trainpath +'train') : \n",
    "    files = gb.glob(pathname= str( trainpath +'train//' + folder + '/*.jpg'))\n",
    "    for file in files: \n",
    "        image = cv2.imread(file)\n",
    "        imgGray = color.rgb2gray(image)\n",
    "        imgGray = np.array(imgGray).flatten()\n",
    "        X_train.append(list(imgGray))\n",
    "        y_train.append(code[folder])"
   ]
  },
  {
   "cell_type": "code",
   "execution_count": 9,
   "id": "a0b88685",
   "metadata": {},
   "outputs": [],
   "source": [
    "# to resize images_test to one equalied size \n",
    "\n",
    "X_test = []\n",
    "y_test = []\n",
    "for folder in  os.listdir(testpath +'test') : \n",
    "    files = gb.glob(pathname= str(testpath + 'test//' + folder + '/*.jpg'))\n",
    "    for file in files: \n",
    "        image = cv2.imread(file)\n",
    "        imgGray = color.rgb2gray( image)\n",
    "        imgGray = np.array(imgGray).flatten()\n",
    "        X_test.append(list(imgGray))\n",
    "        y_test.append(code[folder])"
   ]
  },
  {
   "cell_type": "code",
   "execution_count": 10,
   "id": "3343a861",
   "metadata": {},
   "outputs": [],
   "source": [
    "classifier = SVC(C=1 , kernel = 'poly' , gamma = 'auto'  )"
   ]
  },
  {
   "cell_type": "code",
   "execution_count": 11,
   "id": "a45f1014",
   "metadata": {
    "scrolled": true
   },
   "outputs": [
    {
     "data": {
      "text/plain": [
       "SVC(C=1, gamma='auto', kernel='poly')"
      ]
     },
     "execution_count": 11,
     "metadata": {},
     "output_type": "execute_result"
    }
   ],
   "source": [
    "classifier.fit(X_train, y_train)\n"
   ]
  },
  {
   "cell_type": "code",
   "execution_count": 12,
   "id": "98fcf525",
   "metadata": {},
   "outputs": [
    {
     "name": "stdout",
     "output_type": "stream",
     "text": [
      "acurracy 0.932\n"
     ]
    }
   ],
   "source": [
    "acurrecy = classifier.score(X_test,y_test)\n",
    "print ('acurracy',acurrecy)"
   ]
  },
  {
   "cell_type": "code",
   "execution_count": 14,
   "id": "35041e4c",
   "metadata": {},
   "outputs": [],
   "source": [
    "pick = open('D:/Faaclty/level 3/selcted-1/SVM image2/SVM_Image2.sav','wb')\n",
    "pickle.dump(classifier,pick)\n",
    "pick.close()"
   ]
  },
  {
   "cell_type": "code",
   "execution_count": 13,
   "id": "fd0256ee",
   "metadata": {},
   "outputs": [
    {
     "name": "stdout",
     "output_type": "stream",
     "text": [
      "[[987  13]\n",
      " [123 877]]\n"
     ]
    },
    {
     "data": {
      "text/plain": [
       "0.932"
      ]
     },
     "execution_count": 13,
     "metadata": {},
     "output_type": "execute_result"
    }
   ],
   "source": [
    "from sklearn.metrics import confusion_matrix, accuracy_score\n",
    "prediction = classifier.predict(X_test)\n",
    "confusion_matrix = confusion_matrix(y_test, prediction)\n",
    "print(confusion_matrix)\n",
    "accuracy_score(y_test, prediction)"
   ]
  },
  {
   "cell_type": "code",
   "execution_count": 14,
   "id": "0198ddc8",
   "metadata": {},
   "outputs": [
    {
     "data": {
      "image/png": "[encoded data removed]",
      "text/plain": [
       "<Figure size 432x288 with 1 Axes>"
      ]
     },
     "metadata": {
      "needs_background": "light"
     },
     "output_type": "display_data"
    }
   ],
   "source": [
    "fpr, tpr, _ = metrics.roc_curve(y_test,  prediction)\n",
    "auc = metrics.roc_auc_score(y_test, prediction)\n",
    "#create ROC curve\n",
    "plt.title('Receiver Operating Characteristic')\n",
    "plt.plot(fpr,tpr,label=\"AUC=\"+str(auc))\n",
    "plt.ylabel('True Positive Rate')\n",
    "plt.xlabel('False Positive Rate')\n",
    "plt.legend(loc=4)\n",
    "plt.show()"
   ]
  },
  {
   "cell_type": "code",
   "execution_count": 15,
   "id": "c445d5ef",
   "metadata": {},
   "outputs": [],
   "source": [
    "pick = open('D:/Faaclty/level 3/selcted-1/SVM image2/SVM_Image2.sav','rb')\n",
    "model = pickle.load(pick)\n",
    "pick.close()"
   ]
  },
  {
   "cell_type": "code",
   "execution_count": 27,
   "id": "3e753145",
   "metadata": {
    "scrolled": false
   },
   "outputs": [
    {
     "data": {
      "text/plain": [
       "'Trouser'"
      ]
     },
     "execution_count": 27,
     "metadata": {},
     "output_type": "execute_result"
    }
   ],
   "source": [
    "X_image = []\n",
    "image = cv2.imread('D:\\\\Faaclty\\\\level 3\\\\selcted-1\\\\SVM image2\\\\test\\\\Trouser\\\\80.jpg')\n",
    "imgGray = color.rgb2gray(image)\n",
    "image_array = cv2.resize(imgGray, (28, 28))\n",
    "image_array = np.array(image_array).flatten()\n",
    "X_image.append(list(image_array))\n",
    "X_test = []\n",
    "X_test.append(list(image_array))\n",
    "X_test = np.array(X_test)\n",
    "y_pred = model.predict(X_test)\n",
    "getcode(y_pred)\n"
   ]
  }
 ],
 "metadata": {
  "kernelspec": {
   "display_name": "Python 3",
   "language": "python",
   "name": "python3"
  },
  "language_info": {
   "codemirror_mode": {
    "name": "ipython",
    "version": 3
   },
   "file_extension": ".py",
   "mimetype": "text/x-python",
   "name": "python",
   "nbconvert_exporter": "python",
   "pygments_lexer": "ipython3",
   "version": "3.8.8"
  }
 },
 "nbformat": 4,
 "nbformat_minor": 5
}
